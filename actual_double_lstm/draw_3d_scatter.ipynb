{
 "cells": [
  {
   "cell_type": "code",
   "execution_count": 3,
   "metadata": {
    "collapsed": true
   },
   "outputs": [
    {
     "name": "stdout",
     "output_type": "stream",
     "text": [
      "[[2 2 2 4 4 5 6 6 6 7 8]\n",
      " [2 2 2 4 4 5 6 6 6 7 8]\n",
      " [2 2 2 4 4 5 6 6 6 7 8]\n",
      " [2 2 2 4 4 5 6 6 6 7 8]\n",
      " [2 2 2 4 4 5 6 6 6 7 8]\n",
      " [2 2 2 4 4 5 6 6 6 7 8]\n",
      " [2 2 2 4 4 5 6 6 6 7 8]\n",
      " [2 2 2 4 4 5 6 6 6 7 8]\n",
      " [2 2 2 4 4 5 6 6 6 7 8]\n",
      " [2 2 2 4 4 5 6 6 6 7 8]\n",
      " [2 2 2 4 4 5 6 6 6 7 8]]\n",
      "[[ 8  8  8  8  8  8  8  8  8  8  8]\n",
      " [ 6  6  6  6  6  6  6  6  6  6  6]\n",
      " [16 16 16 16 16 16 16 16 16 16 16]\n",
      " [16 16 16 16 16 16 16 16 16 16 16]\n",
      " [13 13 13 13 13 13 13 13 13 13 13]\n",
      " [16 16 16 16 16 16 16 16 16 16 16]\n",
      " [16 16 16 16 16 16 16 16 16 16 16]\n",
      " [15 15 15 15 15 15 15 15 15 15 15]\n",
      " [14 14 14 14 14 14 14 14 14 14 14]\n",
      " [16 16 16 16 16 16 16 16 16 16 16]\n",
      " [16 16 16 16 16 16 16 16 16 16 16]]\n"
     ]
    },
    {
     "ename": "ValueError",
     "evalue": "Argument Z must be 2-dimensional.",
     "output_type": "error",
     "traceback": [
      "\u001B[1;31m---------------------------------------------------------------------------\u001B[0m",
      "\u001B[1;31mValueError\u001B[0m                                Traceback (most recent call last)",
      "\u001B[1;32m<ipython-input-3-f56cbd483edd>\u001B[0m in \u001B[0;36m<module>\u001B[1;34m\u001B[0m\n\u001B[0;32m     51\u001B[0m \u001B[0mprint\u001B[0m\u001B[1;33m(\u001B[0m\u001B[0mx\u001B[0m\u001B[1;33m)\u001B[0m\u001B[1;33m\u001B[0m\u001B[0m\n\u001B[0;32m     52\u001B[0m \u001B[0mprint\u001B[0m\u001B[1;33m(\u001B[0m\u001B[0my\u001B[0m\u001B[1;33m)\u001B[0m\u001B[1;33m\u001B[0m\u001B[0m\n\u001B[1;32m---> 53\u001B[1;33m \u001B[0max\u001B[0m\u001B[1;33m.\u001B[0m\u001B[0mplot_surface\u001B[0m\u001B[1;33m(\u001B[0m\u001B[0mx\u001B[0m\u001B[1;33m,\u001B[0m\u001B[0my\u001B[0m\u001B[1;33m,\u001B[0m\u001B[0mz\u001B[0m\u001B[1;33m)\u001B[0m\u001B[1;33m\u001B[0m\u001B[0m\n\u001B[0m\u001B[0;32m     54\u001B[0m \u001B[1;31m# ax.scatter(x,y,z)\u001B[0m\u001B[1;33m\u001B[0m\u001B[1;33m\u001B[0m\u001B[0m\n\u001B[0;32m     55\u001B[0m \u001B[0mplt\u001B[0m\u001B[1;33m.\u001B[0m\u001B[0mshow\u001B[0m\u001B[1;33m(\u001B[0m\u001B[1;33m)\u001B[0m\u001B[1;33m\u001B[0m\u001B[0m\n",
      "\u001B[1;32mc:\\users\\kangyifei\\appdata\\local\\programs\\python\\python37\\lib\\site-packages\\mpl_toolkits\\mplot3d\\axes3d.py\u001B[0m in \u001B[0;36mplot_surface\u001B[1;34m(self, X, Y, Z, norm, vmin, vmax, lightsource, *args, **kwargs)\u001B[0m\n\u001B[0;32m   1604\u001B[0m \u001B[1;33m\u001B[0m\u001B[0m\n\u001B[0;32m   1605\u001B[0m         \u001B[1;32mif\u001B[0m \u001B[0mZ\u001B[0m\u001B[1;33m.\u001B[0m\u001B[0mndim\u001B[0m \u001B[1;33m!=\u001B[0m \u001B[1;36m2\u001B[0m\u001B[1;33m:\u001B[0m\u001B[1;33m\u001B[0m\u001B[0m\n\u001B[1;32m-> 1606\u001B[1;33m             \u001B[1;32mraise\u001B[0m \u001B[0mValueError\u001B[0m\u001B[1;33m(\u001B[0m\u001B[1;34m\"Argument Z must be 2-dimensional.\"\u001B[0m\u001B[1;33m)\u001B[0m\u001B[1;33m\u001B[0m\u001B[0m\n\u001B[0m\u001B[0;32m   1607\u001B[0m         \u001B[1;32mif\u001B[0m \u001B[0mnp\u001B[0m\u001B[1;33m.\u001B[0m\u001B[0many\u001B[0m\u001B[1;33m(\u001B[0m\u001B[0mnp\u001B[0m\u001B[1;33m.\u001B[0m\u001B[0misnan\u001B[0m\u001B[1;33m(\u001B[0m\u001B[0mZ\u001B[0m\u001B[1;33m)\u001B[0m\u001B[1;33m)\u001B[0m\u001B[1;33m:\u001B[0m\u001B[1;33m\u001B[0m\u001B[0m\n\u001B[0;32m   1608\u001B[0m             cbook._warn_external(\n",
      "\u001B[1;31mValueError\u001B[0m: Argument Z must be 2-dimensional."
     ]
    }
   ],
   "source": [
    "%matplotlib qt5\n",
    "from mpl_toolkits.mplot3d import Axes3D\n",
    "from matplotlib import pyplot as plt\n",
    "import numpy as np\n",
    "import math\n",
    "x=[2,\n",
    "2,\n",
    "2,\n",
    "4,\n",
    "4,\n",
    "5,\n",
    "6,\n",
    "6,\n",
    "6,\n",
    "7,\n",
    "8,\n",
    "]\n",
    "y=[\n",
    "8,\n",
    "6,\n",
    "16,\n",
    "16,\n",
    "13,\n",
    "16,\n",
    "16,\n",
    "15,\n",
    "14,\n",
    "16,\n",
    "16,\n",
    "]\n",
    "z=[79.07,\n",
    "52.61,\n",
    "61.18,\n",
    "247.92,\n",
    "3.04,\n",
    "5.28,\n",
    "0.25,\n",
    "0.11,\n",
    "0.11,\n",
    "0.25,\n",
    "0.25\n",
    "]\n",
    "z=[math.log10(ele) for ele in z]\n",
    "x=np.array(x)\n",
    "y=np.array(y)\n",
    "z=np.array(z)\n",
    "fig=plt.figure()\n",
    "ax=Axes3D(fig)\n",
    "x,y=np.meshgrid(x,y)\n",
    "print(x)\n",
    "print(y)\n",
    "ax.plot_surface(x,y,z)\n",
    "# ax.scatter(x,y,z)\n",
    "plt.show()"
   ]
  }
 ],
 "metadata": {
  "kernelspec": {
   "display_name": "Python 3",
   "language": "python",
   "name": "python3"
  },
  "language_info": {
   "codemirror_mode": {
    "name": "ipython",
    "version": 2
   },
   "file_extension": ".py",
   "mimetype": "text/x-python",
   "name": "python",
   "nbconvert_exporter": "python",
   "pygments_lexer": "ipython2",
   "version": "2.7.6"
  }
 },
 "nbformat": 4,
 "nbformat_minor": 0
}