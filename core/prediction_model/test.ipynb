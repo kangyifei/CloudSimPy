{
 "cells": [
  {
   "cell_type": "code",
   "execution_count": 1,
   "metadata": {
    "collapsed": true
   },
   "outputs": [],
   "source": [
    "import numpy as np\n",
    "import keras\n",
    "from keras.models import Sequential, Model\n",
    "from keras.layers import Dense, Flatten, Reshape, Input\n",
    "from keras.layers import LSTM\n",
    "from keras.initializers import RandomNormal\n",
    "from keras.callbacks import ModelCheckpoint, EarlyStopping\n",
    "import json\n",
    "import csv\n",
    "import os\n",
    "\n",
    "os.environ[\"CUDA_VISIBLE_DEVICES\"] = \"1\"\n",
    "file_path = \"./singlerack_all.csv\"\n",
    "server_list = []\n",
    "conditioner_outlet_temp = []\n",
    "conditioner_inlet_temp = []\n",
    "\n",
    "\n",
    "timestep = 36\n",
    "predict_horizon = 12\n",
    "\n",
    "class Server(object):\n",
    "    def __init__(self, i):\n",
    "        self.id = i\n",
    "        self.inlet_temp = []\n",
    "        self.outlet_temp = []\n",
    "        self.cpu = []\n",
    "        self.memory = []\n",
    "\n",
    "\n",
    "def strided_app(a, L, S):  # Window len = L, Stride len/stepsize = S\n",
    "    nrows = ((a.size - L) // S) + 1\n",
    "    n = a.strides[0]\n",
    "    return np.lib.stride_tricks.as_strided(a, shape=(nrows, L), strides=(S * n, n), writeable=False)\n",
    "\n",
    "\n",
    "def process_data():\n",
    "    for i in range(15):\n",
    "        server_list.append(Server(i))\n",
    "    with open(file_path, \"r\", encoding='utf-8') as datacsv:\n",
    "        csvr = csv.reader(datacsv)\n",
    "        for row in csvr:\n",
    "            i = 1\n",
    "            for server in server_list:\n",
    "                server.outlet_temp.append(float(row[i]))\n",
    "                i = i + 1\n",
    "            for server in server_list:\n",
    "                server.inlet_temp.append(float(row[46 - i]))\n",
    "                i = i + 1\n",
    "            conditioner_outlet_temp.append(float(row[i]))\n",
    "            i = i + 1\n",
    "            conditioner_inlet_temp.append(float(row[i]))\n",
    "            i = i + 6\n",
    "            for server in server_list:\n",
    "                # if(server.id<10):\n",
    "                #     server.cpu.append(float(row[i])/10)\n",
    "                # else:\n",
    "                #     server.cpu.append(float(row[i]))\n",
    "                server.cpu.append(float(row[i]) / 100)\n",
    "                i = i + 6\n",
    "\n",
    "process_data()\n",
    "\n"
   ]
  },
  {
   "cell_type": "code",
   "execution_count": 2,
   "outputs": [],
   "source": [
    "%matplotlib qt5\n",
    "from keras.models import load_model\n",
    "import matplotlib.pyplot as plt\n",
    "i=0\n",
    "for server in server_list:\n",
    "    i+=1\n",
    "    plt.plot(np.arange(len(server.inlet_temp)),server.inlet_temp,label=str(i))\n",
    "plt.plot(np.arange(len(conditioner_inlet_temp)),conditioner_inlet_temp,label=\"c_in\")\n",
    "plt.plot(np.arange(len(conditioner_outlet_temp)),conditioner_outlet_temp,label=\"c_out\")\n",
    "plt.legend()\n",
    "plt.show()\n",
    "\n"
   ],
   "metadata": {
    "collapsed": false,
    "pycharm": {
     "name": "#%%\n"
    }
   }
  },
  {
   "cell_type": "code",
   "execution_count": 3,
   "outputs": [],
   "source": [
    "temp_train_x = []\n",
    "temp_train_y = []\n",
    "server=server_list[13]\n",
    "temp = np.array(server.inlet_temp)\n",
    "data = strided_app(temp, timestep + predict_horizon + 1, 1)\n",
    "x = data[:, :-1 - predict_horizon]\n",
    "y = data[:, -1]\n",
    "if isinstance(temp_train_x, list):\n",
    "    temp_train_x = x\n",
    "    temp_train_y = y\n",
    "else:\n",
    "    temp_train_x = np.concatenate((temp_train_x, x), axis=0)\n",
    "    temp_train_y = np.concatenate((temp_train_y, y), axis=0)\n",
    "cpu_x = []\n",
    "\n",
    "cpu = np.array(server.cpu)\n",
    "data = strided_app(cpu, timestep + predict_horizon + 1, 1)\n",
    "x = data[:, :-1 - predict_horizon]\n",
    "if isinstance(cpu_x, list):\n",
    "    cpu_x = x\n",
    "else:\n",
    "    cpu_x = np.concatenate((cpu_x, x), axis=0)\n",
    "\n",
    "cpu_pre_model = load_model(\"./model/predict_cpu_ts36_ph12_0.19.hdf5\")\n",
    "cpu_pre_result = cpu_pre_model.predict(cpu_x)\n",
    "mixed_train_x = np.concatenate((temp_train_x, cpu_pre_result), axis=1)\n",
    "temp_pre_model=load_model(\"./model/predict_temp_usingcpu_ts36_ph12_0.19.hdf5\")\n",
    "temp_pre_res=temp_pre_model.predict(mixed_train_x)\n"
   ],
   "metadata": {
    "collapsed": false,
    "pycharm": {
     "name": "#%%\n"
    }
   }
  },
  {
   "cell_type": "code",
   "execution_count": 4,
   "outputs": [],
   "source": [
    "temp_cpu_combined_x=np.concatenate((temp_train_x,cpu_x),axis=1)\n",
    "temp_cpu_combined_model=load_model(\"./model/predict_temp_combined_cpu+temp_ts36_ph12_0.24.hdf5\")\n",
    "temp_cpu_combined_y=temp_cpu_combined_model.predict(temp_cpu_combined_x)\n"
   ],
   "metadata": {
    "collapsed": false,
    "pycharm": {
     "name": "#%%\n"
    }
   }
  },
  {
   "cell_type": "code",
   "execution_count": 5,
   "outputs": [],
   "source": [
    "%matplotlib qt5\n",
    "plt.plot(np.arange(len(server.inlet_temp[2736:3236])),server.inlet_temp[2736:3236],label='origin')\n",
    "plt.plot(np.arange(len(temp_pre_res[2700:3200])),temp_pre_res[2700:3200],label='double lstm')\n",
    "plt.plot(np.arange(len(temp_cpu_combined_y[2700:3200])),temp_cpu_combined_y[2700:3200],label='single lstm')\n",
    "plt.legend()\n",
    "plt.show()\n"
   ],
   "metadata": {
    "collapsed": false,
    "pycharm": {
     "name": "#%%\n"
    }
   }
  },
  {
   "cell_type": "code",
   "execution_count": 6,
   "outputs": [],
   "source": [
    "temp_train_x = []\n",
    "temp_train_y = []\n",
    "\n",
    "temp = np.array(server.inlet_temp)\n",
    "data = strided_app(temp, timestep + predict_horizon + 1, 1)\n",
    "x = data[:, :-1 - predict_horizon]\n",
    "y = data[:, -1]\n",
    "t_conditioner_outlet_temp = np.array(conditioner_outlet_temp)[48:]\n",
    "t_conditioner_outlet_temp = t_conditioner_outlet_temp.reshape(-1, 1)\n",
    "x = np.concatenate((x, t_conditioner_outlet_temp), axis=1)\n",
    "if isinstance(temp_train_x, list):\n",
    "    temp_train_x = x\n",
    "    temp_train_y = y\n",
    "else:\n",
    "    temp_train_x = np.concatenate((temp_train_x, x), axis=0)\n",
    "    temp_train_y = np.concatenate((temp_train_y, y), axis=0)\n",
    "cpu_x = []\n",
    "\n",
    "cpu = np.array(server.cpu)\n",
    "data = strided_app(cpu, timestep + predict_horizon + 1, 1)\n",
    "x = data[:, :-1 - predict_horizon]\n",
    "if isinstance(cpu_x, list):\n",
    "    cpu_x = x\n",
    "else:\n",
    "    cpu_x = np.concatenate((cpu_x, x), axis=0)\n",
    "\n",
    "# cpu_pre_model = train_cpu_model(timestep, predict_horizon)\n",
    "from keras.models import load_model\n",
    "cpu_pre_model = load_model(\"./model/predict_cpu_ts36_ph12_0.19.hdf5\")\n",
    "cpu_pre_result = cpu_pre_model.predict(cpu_x)\n",
    "mixed_train_x = np.concatenate((temp_train_x, cpu_pre_result), axis=1)\n",
    "temp_pre_model_cpu_conditon=load_model(\"./model/predict_temp_usingcpu+condition_ts36_ph12_0.16.hdf5\")\n",
    "\n",
    "temp_pre_model_cpu_y=temp_pre_model_cpu_conditon.predict(mixed_train_x)"
   ],
   "metadata": {
    "collapsed": false,
    "pycharm": {
     "name": "#%%\n"
    }
   }
  },
  {
   "cell_type": "code",
   "execution_count": 12,
   "outputs": [],
   "source": [
    "%matplotlib qt5\n",
    "plt.plot(np.arange(len(server.inlet_temp[2836:3436])),server.inlet_temp[2836:3436],label='origin')\n",
    "plt.plot(np.arange(len(temp_pre_model_cpu_y[2800:3400])),temp_pre_model_cpu_y[2800:3400],label='double lstm')\n",
    "plt.plot(np.arange(len(temp_cpu_combined_y[2800:3400])),temp_cpu_combined_y[2800:3400],label='single lstm')\n",
    "plt.xlabel(\"time(s)\")\n",
    "plt.ylabel(\"temperature(°C)\")\n",
    "plt.legend()\n",
    "plt.show()\n",
    "\n"
   ],
   "metadata": {
    "collapsed": false,
    "pycharm": {
     "name": "#%%[2748:3248]\n"
    }
   }
  }
 ],
 "metadata": {
  "kernelspec": {
   "display_name": "Python 3",
   "language": "python",
   "name": "python3"
  },
  "language_info": {
   "codemirror_mode": {
    "name": "ipython",
    "version": 2
   },
   "file_extension": ".py",
   "mimetype": "text/x-python",
   "name": "python",
   "nbconvert_exporter": "python",
   "pygments_lexer": "ipython2",
   "version": "2.7.6"
  }
 },
 "nbformat": 4,
 "nbformat_minor": 0
}